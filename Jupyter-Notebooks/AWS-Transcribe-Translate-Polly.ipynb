{
 "cells": [
  {
   "cell_type": "markdown",
   "metadata": {},
   "source": [
    "### Voice To Text Using AWS Transcribe With Python:\n",
    "https://dev.to/botreetechnologies/voice-to-text-using-aws-transcribe-with-python-1cfc\n",
    "\n",
    "\n"
   ]
  },
  {
   "cell_type": "code",
   "execution_count": null,
   "metadata": {},
   "outputs": [],
   "source": [
    "\"\"\"\n",
    "Purpose\n",
    "\n",
    "Shows how to use AWS SDK for Python (Boto3) to call Amazon Transcribe to make a\n",
    "transcription of an audio file.\n",
    "\n",
    "This script is intended to be used with the instructions for getting started in the\n",
    "Amazon Transcribe Developer Guide here:\n",
    "    https://docs.aws.amazon.com/transcribe/latest/dg/getting-started-python.html.\n",
    "\"\"\"\n",
    "\n",
    "import time\n",
    "import boto3\n",
    "\n",
    "from urllib.request import urlopen\n",
    "import json\n",
    "\n",
    "def transcribe_file(job_name, file_uri, transcribe_client):\n",
    "    transcribe_client.start_transcription_job(\n",
    "        TranscriptionJobName=job_name,\n",
    "        Media={'MediaFileUri': file_uri},\n",
    "        MediaFormat='mp3',\n",
    "        LanguageCode='en-US'\n",
    "    )\n",
    "    transcript = ''\n",
    "    data = ''\n",
    "    max_tries = 60\n",
    "    while max_tries > 0:\n",
    "        max_tries -= 1\n",
    "        job = transcribe_client.get_transcription_job(TranscriptionJobName=job_name)\n",
    "        job_status = job['TranscriptionJob']['TranscriptionJobStatus']\n",
    "        if job_status in ['COMPLETED', 'FAILED']:\n",
    "            print(f\"Job {job_name} is {job_status}.\")\n",
    "            if job_status == 'COMPLETED': \n",
    "                response = urlopen(job['TranscriptionJob']['Transcript']['TranscriptFileUri'])\n",
    "                data = json.loads(response.read())\n",
    "                transcript = data['results']['transcripts'][0]['transcript']    \n",
    "            break\n",
    "        else:\n",
    "            print(f\"Waiting for {job_name}. Current status is {job_status}.\")\n",
    "        time.sleep(10)\n",
    "    return (transcript, data)"
   ]
  },
  {
   "cell_type": "code",
   "execution_count": null,
   "metadata": {},
   "outputs": [],
   "source": [
    "transcribe_client = boto3.client('transcribe', 'eu-west-2')\n",
    "file_uri = 's3://nsadawi-aws-s3/voice-recording1.mp3'\n",
    "(transcript,data) = transcribe_file('Example-job-12222', file_uri, transcribe_client)\n",
    "print(transcript)"
   ]
  },
  {
   "cell_type": "code",
   "execution_count": null,
   "metadata": {},
   "outputs": [],
   "source": [
    "#data"
   ]
  },
  {
   "cell_type": "code",
   "execution_count": null,
   "metadata": {},
   "outputs": [],
   "source": [
    "transcript = \"\"\"\n",
    "leaders from across the UK say they will work together on a joint approach to the Christmas period after they verging over coverage restrictions in recent weeks. \n",
    "Boris Johnson is due to address MPs at about 15 30 GMT over his plan for a new four week locked down across England from Thursday. \n",
    "On Saturday, the prime minister announced pubs, restaurants, gyms, not essential shops and places of worship would be affected. Several signatory and peace opposed the move, but Labor says it will back a new lock down.\n",
    "\"\"\""
   ]
  },
  {
   "cell_type": "markdown",
   "metadata": {},
   "source": [
    "https://medium.com/@sssanthosh107/amazon-transcriber-aws-speech-to-text-using-python-api-boto-4411050822b5\n",
    "\n",
    "\n",
    "https://github.com/sssanthosh107/AWS_Python_code\n",
    "\n",
    "\n",
    "\n",
    "### Translating Text Using the AWS SDK for Python (Boto):\n",
    "https://docs.aws.amazon.com/translate/latest/dg/examples-python.html"
   ]
  },
  {
   "cell_type": "code",
   "execution_count": null,
   "metadata": {},
   "outputs": [],
   "source": [
    "import boto3\n",
    "\n",
    "translate = boto3.client(service_name='translate', region_name='eu-west-2', use_ssl=True)\n",
    "\n",
    "result = translate.translate_text(Text=transcript, SourceLanguageCode=\"en\", TargetLanguageCode=\"de\")\n",
    "print('TranslatedText: ' + result.get('TranslatedText'))\n",
    "print('SourceLanguageCode: ' + result.get('SourceLanguageCode'))\n",
    "print('TargetLanguageCode: ' + result.get('TargetLanguageCode'))"
   ]
  },
  {
   "cell_type": "markdown",
   "metadata": {},
   "source": [
    "### Polly SynthesizeSpeech Using the AWS SDK for Python (Boto)"
   ]
  },
  {
   "cell_type": "code",
   "execution_count": null,
   "metadata": {},
   "outputs": [],
   "source": [
    "import boto3\n",
    "\n",
    "#polly_client = boto3.Session(\n",
    "#                aws_access_key_id=,                     \n",
    "#    aws_secret_access_key=,\n",
    "#    region_name='eu-west-2').client('polly')\n",
    "\n",
    "polly_client = boto3.client(service_name='polly', region_name='eu-west-2')\n",
    "response = polly_client.synthesize_speech(VoiceId='Joanna',\n",
    "                OutputFormat='mp3', \n",
    "                Text = transcript)\n",
    "\n",
    "file = open('speech.mp3', 'wb')\n",
    "file.write(response['AudioStream'].read())\n",
    "file.close()"
   ]
  },
  {
   "cell_type": "code",
   "execution_count": null,
   "metadata": {},
   "outputs": [],
   "source": []
  }
 ],
 "metadata": {
  "kernelspec": {
   "display_name": "Python 3",
   "language": "python",
   "name": "python3"
  },
  "language_info": {
   "codemirror_mode": {
    "name": "ipython",
    "version": 3
   },
   "file_extension": ".py",
   "mimetype": "text/x-python",
   "name": "python",
   "nbconvert_exporter": "python",
   "pygments_lexer": "ipython3",
   "version": "3.7.6"
  }
 },
 "nbformat": 4,
 "nbformat_minor": 4
}
