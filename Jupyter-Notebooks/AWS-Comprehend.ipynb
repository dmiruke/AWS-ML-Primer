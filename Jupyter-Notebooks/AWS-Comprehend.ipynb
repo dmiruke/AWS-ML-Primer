{
 "cells": [
  {
   "cell_type": "markdown",
   "metadata": {},
   "source": [
    "https://docs.aws.amazon.com/code-samples/latest/catalog/code-catalog-python-example_code-comprehend.html"
   ]
  },
  {
   "cell_type": "markdown",
   "metadata": {},
   "source": [
    "## Demonstrate how to determine the named entities in a document"
   ]
  },
  {
   "cell_type": "code",
   "execution_count": null,
   "metadata": {},
   "outputs": [],
   "source": [
    "import boto3\n",
    "import json\n",
    "\n",
    "comprehend = boto3.client(service_name='comprehend', region_name='eu-west-2')\n",
    "text = 'Python is a great programming and scripting language. Greetings from London!'\n",
    "\n",
    "print('Calling DetectEntities')\n",
    "print(json.dumps(comprehend.detect_entities(Text=text, LanguageCode='en'),\n",
    "                 sort_keys=True, indent=4))\n",
    "print('End of DetectEntities\\n')"
   ]
  },
  {
   "cell_type": "markdown",
   "metadata": {},
   "source": [
    "## Demonstrate how to determine the key noun phrases used in text"
   ]
  },
  {
   "cell_type": "code",
   "execution_count": null,
   "metadata": {},
   "outputs": [],
   "source": [
    "import boto3\n",
    "import json\n",
    "\n",
    "comprehend = boto3.client(service_name='comprehend', region_name='eu-west-2')\n",
    "text = 'Python is a great programming and scripting language. Greetings from London!'\n",
    "\n",
    "\n",
    "print('Calling DetectKeyPhrases')\n",
    "print(json.dumps(comprehend.detect_key_phrases(Text=text, LanguageCode='en'),\n",
    "                 sort_keys=True, indent=4))\n",
    "print('End of DetectKeyPhrases\\n')"
   ]
  },
  {
   "cell_type": "markdown",
   "metadata": {},
   "source": [
    "## Demonstrates how to determine the overall emotional tone of text."
   ]
  },
  {
   "cell_type": "code",
   "execution_count": null,
   "metadata": {},
   "outputs": [],
   "source": [
    "\n",
    "import boto3\n",
    "import json\n",
    "\n",
    "comprehend = boto3.client(service_name='comprehend', region_name='eu-west-2')\n",
    "text = 'Python is a great programming and scripting language. Greetings from London!'\n",
    "\n",
    "print('Calling DetectSentiment')\n",
    "print(json.dumps(comprehend.detect_sentiment(Text=text, LanguageCode='en'), sort_keys=True, indent=4))\n",
    "print('End of DetectSentiment\\n')\n"
   ]
  },
  {
   "cell_type": "markdown",
   "metadata": {},
   "source": [
    "## Demonstrate how to parse text to extract the individual words and determine the parts of speech for each word."
   ]
  },
  {
   "cell_type": "code",
   "execution_count": null,
   "metadata": {},
   "outputs": [],
   "source": [
    "import boto3\n",
    "import json\n",
    " \n",
    "comprehend = boto3.client(service_name='comprehend', region_name='eu-west-2')\n",
    "text = 'Python is a great programming and scripting language. Greetings from London!'\n",
    " \n",
    "print('Calling DetectSyntax')\n",
    "print(json.dumps(comprehend.detect_syntax(Text=text, LanguageCode='en'), sort_keys=True, indent=4))\n",
    "print('End of DetectSyntax\\n')"
   ]
  },
  {
   "cell_type": "markdown",
   "metadata": {},
   "source": [
    "## Demonstrate how to detect the topics in a document collection."
   ]
  },
  {
   "cell_type": "code",
   "execution_count": null,
   "metadata": {},
   "outputs": [],
   "source": [
    "import boto3\n",
    "\n",
    "# Set these values before running the program\n",
    "input_s3_url = 's3://nsadawi-aws-s3'\n",
    "input_doc_format = 'ONE_DOC_PER_FILE'\n",
    "output_s3_url = 's3://nsadawi-aws-s3'\n",
    "data_access_role_arn = 'arn:aws:iam::479320215787:role/service-role/AmazonComprehendServiceRole-nsadawi'\n",
    "number_of_topics = 10   # Optional argument\n",
    "\n",
    "\n",
    "# Set up job configuration\n",
    "input_data_config = {'S3Uri': input_s3_url, 'InputFormat': input_doc_format}\n",
    "output_data_config = {'S3Uri': output_s3_url}\n",
    "\n",
    "# Begin a job to detect the topics in the document collection\n",
    "comprehend = boto3.client('comprehend', region_name='eu-west-2')\n",
    "start_result = comprehend.start_topics_detection_job(\n",
    "    JobName='NoureddinTopicDetection',\n",
    "    InputDataConfig=input_data_config,\n",
    "    OutputDataConfig=output_data_config,\n",
    "    DataAccessRoleArn=data_access_role_arn,\n",
    "    NumberOfTopics=number_of_topics)\n",
    "job_id = start_result['JobId']\n",
    "print(f'Started Topic Detection Job: {job_id}')\n",
    "\n",
    "# Retrieve information about the job\n",
    "describe_result = comprehend.describe_topics_detection_job(JobId=job_id)\n",
    "job_status = describe_result['TopicsDetectionJobProperties']['JobStatus']\n",
    "print(f'Job Status: {job_status}')\n",
    "if job_status == 'FAILED':\n",
    "    print(f'Reason: {describe_result[\"TopicsDetectionJobProperties\"][\"Message\"]}')\n",
    "\n",
    "# List all topic-detection jobs\n",
    "list_result = comprehend.list_topics_detection_jobs()\n",
    "for job in list_result['TopicsDetectionJobPropertiesList']:\n",
    "    print(f'Job ID: {job[\"JobId\"]}, Status: {job[\"JobStatus\"]}')\n"
   ]
  },
  {
   "cell_type": "code",
   "execution_count": null,
   "metadata": {},
   "outputs": [],
   "source": []
  }
 ],
 "metadata": {
  "kernelspec": {
   "display_name": "Python 3",
   "language": "python",
   "name": "python3"
  },
  "language_info": {
   "codemirror_mode": {
    "name": "ipython",
    "version": 3
   },
   "file_extension": ".py",
   "mimetype": "text/x-python",
   "name": "python",
   "nbconvert_exporter": "python",
   "pygments_lexer": "ipython3",
   "version": "3.7.6"
  }
 },
 "nbformat": 4,
 "nbformat_minor": 4
}
